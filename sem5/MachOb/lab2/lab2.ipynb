{
 "cells": [
  {
   "cell_type": "markdown",
   "metadata": {},
   "source": [
    "## Лабораторная работа 2\n"
   ]
  },
  {
   "cell_type": "markdown",
   "metadata": {},
   "source": [
    "### No1 (5 баллов)\n",
    "Напишите программы, которые создают следующие массивы NumPy:"
   ]
  },
  {
   "cell_type": "markdown",
   "metadata": {},
   "source": [
    "##### 1. Массив со значениями 1, 7, 13, 105. \n",
    "Посчитайте и выведите на экран размер\n",
    "памяти, который он занимает. Сохраните массив в текстовый и бинарный файлы. \\\n",
    "Затем загрузите его и выведите на экран."
   ]
  },
  {
   "cell_type": "code",
   "execution_count": 1,
   "metadata": {},
   "outputs": [],
   "source": [
    "import numpy as np"
   ]
  },
  {
   "cell_type": "code",
   "execution_count": 2,
   "metadata": {},
   "outputs": [
    {
     "name": "stdout",
     "output_type": "stream",
     "text": [
      "16\n",
      "int32\n",
      "[  1   7  13 105]\n",
      "[  1   7  13 105]\n"
     ]
    }
   ],
   "source": [
    "\n",
    "arr1 = np.array([1, 7, 13, 105])\n",
    "\n",
    "print(arr1.nbytes)\n",
    "print(arr1.dtype)\n",
    "\n",
    "np.savetxt(\"arr1_1.txt\", arr1, fmt=\"%i\")\n",
    "\n",
    "arr1.astype(\"int16\").tofile(\"arr1_2\")\n",
    "\n",
    "arr2 = np.fromfile(\"arr1_2\", dtype=\"int16\")\n",
    "arr3 = np.loadtxt(\"arr1_1.txt\", dtype=\"<i\")\n",
    "\n",
    "print(arr2)\n",
    "print(arr3)\n"
   ]
  },
  {
   "cell_type": "markdown",
   "metadata": {},
   "source": [
    "##### 2. Три массива: из 10 нулей, 10 единиц, 10 пятерок."
   ]
  },
  {
   "cell_type": "code",
   "execution_count": 3,
   "metadata": {},
   "outputs": [
    {
     "name": "stdout",
     "output_type": "stream",
     "text": [
      "[0. 0. 0. 0. 0. 0. 0. 0. 0. 0.]\n",
      "[1. 1. 1. 1. 1. 1. 1. 1. 1. 1.]\n",
      "[5. 5. 5. 5. 5. 5. 5. 5. 5. 5.]\n"
     ]
    }
   ],
   "source": [
    "arr1 = np.zeros(10)\n",
    "print(arr1)\n",
    "\n",
    "arr2 = np.ones(10)\n",
    "print(arr2)\n",
    "\n",
    "arr3 = np.ones(10) * 5\n",
    "print(arr3)\n"
   ]
  },
  {
   "cell_type": "markdown",
   "metadata": {},
   "source": [
    "##### 3. Массив последовательности четных целых чисел от 30 до 70."
   ]
  },
  {
   "cell_type": "code",
   "execution_count": 4,
   "metadata": {},
   "outputs": [
    {
     "name": "stdout",
     "output_type": "stream",
     "text": [
      "[30 32 34 36 38 40 42 44 46 48 50 52 54 56 58 60 62 64 66 68 70]\n"
     ]
    }
   ],
   "source": [
    "arr = np.array(range(30, 71, 2))\n",
    "print(arr)\n"
   ]
  },
  {
   "cell_type": "markdown",
   "metadata": {},
   "source": [
    "##### 4. Массив из 10 элементов со значениями, равномерно распределенными между 5 и 50."
   ]
  },
  {
   "cell_type": "code",
   "execution_count": 5,
   "metadata": {},
   "outputs": [
    {
     "name": "stdout",
     "output_type": "stream",
     "text": [
      "[ 5 10 15 20 25 30 35 40 45 50]\n"
     ]
    }
   ],
   "source": [
    "arr = np.linspace(5, 50, dtype=\"int16\", num=10)\n",
    "print(arr)\n"
   ]
  },
  {
   "cell_type": "markdown",
   "metadata": {},
   "source": [
    "##### 5. Массив 3x3x3 из 27 случайных чисел в диапазоне от 1 до 100."
   ]
  },
  {
   "cell_type": "code",
   "execution_count": 6,
   "metadata": {},
   "outputs": [
    {
     "name": "stdout",
     "output_type": "stream",
     "text": [
      "[[[35 95 11]\n",
      "  [ 3 72 47]\n",
      "  [82 70 25]]\n",
      "\n",
      " [[44 42 39]\n",
      "  [ 5 18 26]\n",
      "  [33 94 36]]\n",
      "\n",
      " [[61 42 53]\n",
      "  [19 78 12]\n",
      "  [59 44 13]]]\n"
     ]
    }
   ],
   "source": [
    "arr = np.random.randint(1, 100, 27).reshape(3, 3, 3)\n",
    "print(arr)\n"
   ]
  },
  {
   "cell_type": "markdown",
   "metadata": {},
   "source": [
    "##### 6. Массив 3х4, заполненной значениями от 30 до 41."
   ]
  },
  {
   "cell_type": "code",
   "execution_count": 7,
   "metadata": {},
   "outputs": [
    {
     "name": "stdout",
     "output_type": "stream",
     "text": [
      "[[30 31 32 33]\n",
      " [34 35 36 37]\n",
      " [38 39 40 41]]\n"
     ]
    }
   ],
   "source": [
    "arr = np.array(range(30, 42)).reshape(3, 4)\n",
    "print(arr)\n"
   ]
  },
  {
   "cell_type": "markdown",
   "metadata": {},
   "source": [
    "##### 7. Массив 10x10, в котором элементы на границах равны 1, а внутри 0"
   ]
  },
  {
   "cell_type": "code",
   "execution_count": 8,
   "metadata": {},
   "outputs": [
    {
     "name": "stdout",
     "output_type": "stream",
     "text": [
      "[[1. 1. 1. 1. 1. 1. 1. 1. 1. 1.]\n",
      " [1. 0. 0. 0. 0. 0. 0. 0. 0. 1.]\n",
      " [1. 0. 0. 0. 0. 0. 0. 0. 0. 1.]\n",
      " [1. 0. 0. 0. 0. 0. 0. 0. 0. 1.]\n",
      " [1. 0. 0. 0. 0. 0. 0. 0. 0. 1.]\n",
      " [1. 0. 0. 0. 0. 0. 0. 0. 0. 1.]\n",
      " [1. 0. 0. 0. 0. 0. 0. 0. 0. 1.]\n",
      " [1. 0. 0. 0. 0. 0. 0. 0. 0. 1.]\n",
      " [1. 0. 0. 0. 0. 0. 0. 0. 0. 1.]\n",
      " [1. 1. 1. 1. 1. 1. 1. 1. 1. 1.]]\n"
     ]
    }
   ],
   "source": [
    "arr = np.zeros(10**2).reshape(10, 10)\n",
    "arr[0, :] = 1    # up\n",
    "arr[-1, :] = 1   # bottom\n",
    "arr[0:, 0] = 1   # left\n",
    "arr[0:, -1] = 1  # rigth\n",
    "\n",
    "print(arr)\n"
   ]
  },
  {
   "cell_type": "markdown",
   "metadata": {},
   "source": [
    "##### 8. Массив 5x5 из нулей с элементами на главной диагонали равными 1, 2, 3, 4, 5."
   ]
  },
  {
   "cell_type": "code",
   "execution_count": 9,
   "metadata": {},
   "outputs": [
    {
     "name": "stdout",
     "output_type": "stream",
     "text": [
      "[[1. 0. 0. 0. 0.]\n",
      " [0. 2. 0. 0. 0.]\n",
      " [0. 0. 3. 0. 0.]\n",
      " [0. 0. 0. 4. 0.]\n",
      " [0. 0. 0. 0. 5.]]\n"
     ]
    }
   ],
   "source": [
    "arr = np.zeros(5**2).reshape(5, 5)\n",
    "np.fill_diagonal(arr, [1, 2, 3, 4, 5])\n",
    "print(arr)\n"
   ]
  },
  {
   "cell_type": "markdown",
   "metadata": {},
   "source": [
    "##### 9. Массив 4x4, в котором 0 и 1 расположены в шахматном порядке\n",
    "C нулями на\n",
    "главной диагонали."
   ]
  },
  {
   "cell_type": "code",
   "execution_count": 10,
   "metadata": {},
   "outputs": [
    {
     "name": "stdout",
     "output_type": "stream",
     "text": [
      "[[0. 1. 0. 1.]\n",
      " [1. 0. 1. 0.]\n",
      " [0. 1. 0. 1.]\n",
      " [1. 0. 1. 0.]]\n"
     ]
    }
   ],
   "source": [
    "arr = np.zeros(4**2).reshape(4, 4)\n",
    "arr[1::2, ::2] = 1\n",
    "arr[::2, 1::2] = 1\n",
    "print(arr)\n"
   ]
  },
  {
   "cell_type": "markdown",
   "metadata": {},
   "source": [
    "##### 10. Массив, заполненный всеми днями марта 2017 года. Тип данных массива – дата."
   ]
  },
  {
   "cell_type": "code",
   "execution_count": 11,
   "metadata": {},
   "outputs": [
    {
     "name": "stdout",
     "output_type": "stream",
     "text": [
      "['2017-03-01' '2017-03-02' '2017-03-03' '2017-03-04' '2017-03-05'\n",
      " '2017-03-06' '2017-03-07' '2017-03-08' '2017-03-09' '2017-03-10'\n",
      " '2017-03-11' '2017-03-12' '2017-03-13' '2017-03-14' '2017-03-15'\n",
      " '2017-03-16' '2017-03-17' '2017-03-18' '2017-03-19' '2017-03-20'\n",
      " '2017-03-21' '2017-03-22' '2017-03-23' '2017-03-24' '2017-03-25'\n",
      " '2017-03-26' '2017-03-27' '2017-03-28' '2017-03-29' '2017-03-30'\n",
      " '2017-03-31']\n",
      "datetime64[D]\n"
     ]
    }
   ],
   "source": [
    "arr = np.arange(\"2017-03\", \"2017-04\", dtype=\"datetime64[D]\")\n",
    "print(arr)\n",
    "print(arr.dtype)\n"
   ]
  },
  {
   "cell_type": "markdown",
   "metadata": {},
   "source": [
    "### No2 (5 баллов)\n",
    "Напишите следующие программы, используя подходящие функции модуля NumPy:"
   ]
  },
  {
   "cell_type": "markdown",
   "metadata": {},
   "source": [
    "##### 1. Дано два массива. Получите массив, состоящий из их общих элементов.\n",
    "\n",
    "Например, для массивов [0 10 20 40 60] и [10 30 40] ответом будет [10, 40]."
   ]
  },
  {
   "cell_type": "code",
   "execution_count": 12,
   "metadata": {},
   "outputs": [
    {
     "name": "stdout",
     "output_type": "stream",
     "text": [
      "[ 0 10 20 40 60]\n",
      "[10 30 40]\n",
      "[10 40]\n"
     ]
    }
   ],
   "source": [
    "arr1 = np.array([0, 10, 20, 40, 60])\n",
    "arr2 = np.array([10, 30, 40])\n",
    "\n",
    "arr3 = np.intersect1d(arr1, arr2)\n",
    "\n",
    "print(arr1)\n",
    "print(arr2)\n",
    "print(arr3)\n"
   ]
  },
  {
   "cell_type": "markdown",
   "metadata": {},
   "source": [
    "##### 2. Дан массив. Получите массив его уникальных элементов.\n",
    "\n",
    "Исходный массив: [10 10 20 20 30 30]\n",
    "\n",
    "Массив его уникальных элементов: [10 20 30]\n",
    "\n",
    "Исходный массив:\n",
    "\n",
    "[[1 1]\n",
    "\n",
    "[2 3]]\n",
    "\n",
    "Массив его уникальных элементов: [1 2 3]"
   ]
  },
  {
   "cell_type": "code",
   "execution_count": 13,
   "metadata": {},
   "outputs": [
    {
     "name": "stdout",
     "output_type": "stream",
     "text": [
      "[10 20 30]\n",
      "[1 2 3]\n"
     ]
    }
   ],
   "source": [
    "\n",
    "arr1 = [10, 10, 20, 20, 30, 30]\n",
    "arr2 = [[1, 1], [2, 3]]\n",
    "\n",
    "for arr in [arr1, arr2]:\n",
    "    print(np.unique(arr))\n"
   ]
  },
  {
   "cell_type": "markdown",
   "metadata": {},
   "source": [
    "##### 3. Дан массив. Получите два массива: его уникальные элементы и их частоты.\n",
    "\n",
    "Исходный массив: [10 10 20 10 20 20 20 30 30 50 40 40]\n",
    "\n",
    "Два массива: [10 20 30 40 50], [3 4 2 2 1]"
   ]
  },
  {
   "cell_type": "code",
   "execution_count": 14,
   "metadata": {},
   "outputs": [
    {
     "name": "stdout",
     "output_type": "stream",
     "text": [
      "[10 20 30 40 50] [3 4 2 2 1]\n"
     ]
    }
   ],
   "source": [
    "arr1 = np.array([10, 10, 20, 10, 20, 20, 20, 30, 30, 50, 40, 40])\n",
    "\n",
    "print(*np.unique(arr1, return_counts=True))\n"
   ]
  },
  {
   "cell_type": "markdown",
   "metadata": {},
   "source": [
    "##### 4. Дан массив. Получите массив путем повторения данного.\n",
    "\n",
    "Образец массива: [1, 2, 3, 4]\n",
    "\n",
    "Ожидаемый результат:\n",
    "\n",
    " - 1 повторение\n",
    "    [1, 2, 3, 4]\n",
    "\n",
    " - 2 повторения\n",
    "    [1, 2, 3, 4, 1, 2, 3, 4]\n",
    "\n",
    " - 3 повторения\n",
    "    [1, 2, 3, 4, 1, 2, 3, 4, 1, 2, 3, 4]"
   ]
  },
  {
   "cell_type": "code",
   "execution_count": 15,
   "metadata": {},
   "outputs": [
    {
     "name": "stdout",
     "output_type": "stream",
     "text": [
      "[1 2 3 4]\n",
      "[1 2 3 4 1 2 3 4]\n",
      "[1 2 3 4 1 2 3 4 1 2 3 4]\n"
     ]
    }
   ],
   "source": [
    "arr1 = np.array([1, 2, 3, 4])\n",
    "\n",
    "arr2 = np.tile(arr1, reps=2)\n",
    "arr3 = np.tile(arr1, reps=3)\n",
    "\n",
    "print(arr1)\n",
    "print(arr2)\n",
    "print(arr3)\n"
   ]
  },
  {
   "cell_type": "markdown",
   "metadata": {},
   "source": [
    "##### 5. Дан массив, в котором имеются значения nan. \n",
    "Получите массив, удалив все значения nan.\n",
    "\n",
    "Исходный массив: [200. 300. nan nan nan 700.]\n",
    "\n",
    "После удаления значений nan: [200. 300. 700.]\n",
    "\n",
    "\n",
    "Исходный массив:\n",
    "[[1. 2. 3.]\n",
    "[nan 0. nan]\n",
    "[6. 7. nan]]\n",
    "\n",
    "После удаления значений nan: [1. 2. 3. 0. 6. 7.]"
   ]
  },
  {
   "cell_type": "code",
   "execution_count": 16,
   "metadata": {},
   "outputs": [
    {
     "name": "stdout",
     "output_type": "stream",
     "text": [
      "[200. 300.  nan  nan  nan 700.]\n",
      "[200. 300. 700.]\n"
     ]
    }
   ],
   "source": [
    "arr1 = np.array([200., 300., np.nan, np.nan, np.nan, 700.])\n",
    "print(arr1)\n",
    "\n",
    "arr2 = np.array(list(filter(lambda x: x == x, arr1)))\n",
    "print(arr2)\n"
   ]
  },
  {
   "cell_type": "markdown",
   "metadata": {},
   "source": [
    "##### 6. Дан массив. Получите массив его k наименьших значений.\n",
    "\n",
    "Оригинальный массив: [1. 7. 8. 2. 0.1 3. 15. 2.5]\n",
    "\n",
    "Его 4 наименьших значения: [0.1 1. 2. 2.5]"
   ]
  },
  {
   "cell_type": "code",
   "execution_count": 17,
   "metadata": {},
   "outputs": [
    {
     "name": "stdout",
     "output_type": "stream",
     "text": [
      "[0.1 1.  2.  2.5]\n"
     ]
    }
   ],
   "source": [
    "arr1 = np.array([1., 7., 8., 2., 0.1, 3., 15., 2.5])\n",
    "\n",
    "print(np.sort(arr1)[:4])\n"
   ]
  },
  {
   "cell_type": "markdown",
   "metadata": {},
   "source": [
    "##### 7. Дан массив и некоторое число. Найдите ближайший по значению к числу элемент массива.\n",
    "\n",
    "Исходный массив: [0.5 1.8 2.1 3.5 4.87 5.13 6.49]\n",
    "\n",
    "Значение для сравнения: 3,09066280756759\n",
    "\n",
    "Ответ: 3.5"
   ]
  },
  {
   "cell_type": "code",
   "execution_count": 18,
   "metadata": {},
   "outputs": [
    {
     "name": "stdout",
     "output_type": "stream",
     "text": [
      "3.5\n"
     ]
    }
   ],
   "source": [
    "arr1 = np.array([0.5, 1.8, 2.1, 3.5, 4.87, 5.13, 6.49])\n",
    "\n",
    "compare_to = 3.09066280756759\n",
    "\n",
    "print(arr1[np.argmin(np.abs(arr1 - compare_to))])\n"
   ]
  },
  {
   "cell_type": "markdown",
   "metadata": {},
   "source": [
    "##### 8. Дано два массива со строками. Получите массив при помощи поэлементного объединения.\n",
    "\n",
    "1 массив: [\"Python\" \"PHP\"]\n",
    "\n",
    "2 массив: [\"Java\" \"C ++\"]\n",
    "\n",
    "Результат: [\"Python Java\" \"PHP C ++\"]"
   ]
  },
  {
   "cell_type": "code",
   "execution_count": 19,
   "metadata": {},
   "outputs": [
    {
     "name": "stdout",
     "output_type": "stream",
     "text": [
      "['Python Java' 'PHP C++']\n"
     ]
    }
   ],
   "source": [
    "arr1 = np.char.array([\"Python\", \"PHP\"])\n",
    "\n",
    "arr2 = np.char.array([\"Java\", \"C++\"])\n",
    "\n",
    "print(arr1 + \" \" + arr2)\n"
   ]
  },
  {
   "cell_type": "markdown",
   "metadata": {},
   "source": [
    "##### 9. Дан массив строк. Получите массив с частотой встречаемости буквы «P».\n",
    "\n",
    "Оригинальный массив: [\"Python\" \"PHP\" \"JS\" \" examples\" \"html\"]\n",
    "\n",
    "Количество \"P\": [1 2 0 0 0]"
   ]
  },
  {
   "cell_type": "code",
   "execution_count": 20,
   "metadata": {},
   "outputs": [
    {
     "name": "stdout",
     "output_type": "stream",
     "text": [
      "[1 2 0 0 0]\n"
     ]
    }
   ],
   "source": [
    "arr1 = np.char.array([\"Python\", \"PHP\", \"JS\", \"examples\", \"html\"])\n",
    "\n",
    "print(np.char.count(arr1, \"P\"))\n"
   ]
  },
  {
   "cell_type": "markdown",
   "metadata": {},
   "source": [
    "##### 10. Найдите корни следующих полиномов:\n",
    "\n",
    "a. x^2 - 4х + 7\n",
    "\n",
    "b. x^4 - 11х^3 + 9х^2 + 11х - 10"
   ]
  },
  {
   "cell_type": "code",
   "execution_count": 21,
   "metadata": {},
   "outputs": [
    {
     "name": "stdout",
     "output_type": "stream",
     "text": [
      "[2.-1.73205081j 2.+1.73205081j]\n",
      "[-1.+0.00000000e+00j  1.-1.32780655e-08j  1.+1.32780655e-08j\n",
      " 10.+0.00000000e+00j]\n"
     ]
    }
   ],
   "source": [
    "print(np.polynomial.Polynomial([7, -4, 1]).roots())\n",
    "print(np.polynomial.Polynomial([-10, 11, 9, -11, 1]).roots())\n"
   ]
  },
  {
   "cell_type": "markdown",
   "metadata": {},
   "source": [
    "### No3 (5 баллов)\n",
    "Напишите программу, которая будет решать систему линейных уравнений вида:\n",
    "\n",
    "\\begin{cases}\n",
    "\n",
    "a_{11}x + a_{12}y = b_1 \\ (1) \\\\\n",
    "\n",
    "\n",
    "a_{21}x + a_{22}y = b_2 \\ (2)\n",
    "\n",
    "\\end{cases}\n",
    "\n",
    "Коэффициенты и правую часть вводит пользователь. Программа выводит решение системы. Для нахождения решения используйте numpy.linalg.solve. \n",
    "\n",
    "Система не имеет решения (или имеет их бесконечно много), если определитель матрицы\n",
    "коэффициентов равен 0. В этом случае необходимо выводить соответствующее сообщение.\n",
    "\n",
    "Для нахождения определителя используйте функцию numpy.linalg.det."
   ]
  },
  {
   "cell_type": "code",
   "execution_count": 22,
   "metadata": {},
   "outputs": [
    {
     "name": "stdout",
     "output_type": "stream",
     "text": [
      "a coefs:\n",
      "[[1. 2.]\n",
      " [3. 4.]]\n",
      "b coefs:\n",
      "[[5.]\n",
      " [6.]]\n",
      "Result = [-4.   4.5]\n"
     ]
    }
   ],
   "source": [
    "a_coefs = [[], []]\n",
    "b_coefs = []\n",
    "\n",
    "for i in range(2):\n",
    "    for j in range(2):\n",
    "        a_coefs[i].append(input(f\"a{i + 1}{j + 1} = \"))\n",
    "\n",
    "\n",
    "for i in range(2):\n",
    "    b_coefs.append(input(f\"b{i + 1} = \"))\n",
    "\n",
    "\n",
    "arr1 = np.array(a_coefs, dtype=\"float32\")\n",
    "arr2 = np.array(b_coefs, dtype=\"float32\")\n",
    "\n",
    "det = np.linalg.det(arr1.reshape(2, 2))\n",
    "\n",
    "if det == 0:\n",
    "    print(\"det = 0\")\n",
    "    print(\"no result\")\n",
    "\n",
    "else:\n",
    "    print(\"a coefs:\", arr1, sep=\"\\n\")\n",
    "    print(\"b coefs:\", arr2.reshape(2, 1), sep=\"\\n\")\n",
    "\n",
    "    print(\"Result =\", np.linalg.solve(arr1, arr2))\n"
   ]
  }
 ],
 "metadata": {
  "kernelspec": {
   "display_name": "Python 3.10.4 64-bit",
   "language": "python",
   "name": "python3"
  },
  "language_info": {
   "codemirror_mode": {
    "name": "ipython",
    "version": 3
   },
   "file_extension": ".py",
   "mimetype": "text/x-python",
   "name": "python",
   "nbconvert_exporter": "python",
   "pygments_lexer": "ipython3",
   "version": "3.10.4"
  },
  "orig_nbformat": 4,
  "vscode": {
   "interpreter": {
    "hash": "cd87b9a6d982cfc45c3963b1a7c0419560246e78f9aeb0d449ae0a5a3a4ad62c"
   }
  }
 },
 "nbformat": 4,
 "nbformat_minor": 2
}
