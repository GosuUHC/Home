{
 "cells": [
  {
   "attachments": {},
   "cell_type": "markdown",
   "metadata": {},
   "source": [
    "No2 Задача классификации (20 баллов)\n",
    "\n",
    "Возьмите набор данных согласно своему варианту\n",
    "(https://cloud.mail.ru/public/MWZh/DQkbAHKmi). Датасет представляет собой набор\n",
    "признаков, в последнем столбце указан класс объекта."
   ]
  },
  {
   "cell_type": "code",
   "execution_count": 1,
   "metadata": {},
   "outputs": [],
   "source": [
    "import pandas as pd\n",
    "import matplotlib.pyplot as plt\n",
    "import seaborn as sns\n"
   ]
  },
  {
   "cell_type": "code",
   "execution_count": 2,
   "metadata": {},
   "outputs": [
    {
     "data": {
      "text/html": [
       "<div>\n",
       "<style scoped>\n",
       "    .dataframe tbody tr th:only-of-type {\n",
       "        vertical-align: middle;\n",
       "    }\n",
       "\n",
       "    .dataframe tbody tr th {\n",
       "        vertical-align: top;\n",
       "    }\n",
       "\n",
       "    .dataframe thead th {\n",
       "        text-align: right;\n",
       "    }\n",
       "</style>\n",
       "<table border=\"1\" class=\"dataframe\">\n",
       "  <thead>\n",
       "    <tr style=\"text-align: right;\">\n",
       "      <th></th>\n",
       "      <th>data0</th>\n",
       "      <th>data1</th>\n",
       "      <th>data2</th>\n",
       "      <th>data3</th>\n",
       "      <th>data4</th>\n",
       "      <th>data5</th>\n",
       "      <th>data6</th>\n",
       "      <th>data7</th>\n",
       "    </tr>\n",
       "  </thead>\n",
       "  <tbody>\n",
       "    <tr>\n",
       "      <th>0</th>\n",
       "      <td>-0.452892</td>\n",
       "      <td>0.137497</td>\n",
       "      <td>-0.539387</td>\n",
       "      <td>-0.033506</td>\n",
       "      <td>-0.051796</td>\n",
       "      <td>-0.539387</td>\n",
       "      <td>1.309584</td>\n",
       "      <td>1</td>\n",
       "    </tr>\n",
       "    <tr>\n",
       "      <th>1</th>\n",
       "      <td>2.183568</td>\n",
       "      <td>-0.465947</td>\n",
       "      <td>0.100564</td>\n",
       "      <td>-0.254450</td>\n",
       "      <td>-0.177177</td>\n",
       "      <td>0.100564</td>\n",
       "      <td>-0.948185</td>\n",
       "      <td>2</td>\n",
       "    </tr>\n",
       "    <tr>\n",
       "      <th>2</th>\n",
       "      <td>-1.202893</td>\n",
       "      <td>-0.495887</td>\n",
       "      <td>-1.397155</td>\n",
       "      <td>-0.083091</td>\n",
       "      <td>0.027211</td>\n",
       "      <td>-1.397155</td>\n",
       "      <td>-0.387794</td>\n",
       "      <td>1</td>\n",
       "    </tr>\n",
       "    <tr>\n",
       "      <th>3</th>\n",
       "      <td>1.259791</td>\n",
       "      <td>0.059177</td>\n",
       "      <td>-1.695189</td>\n",
       "      <td>-0.438530</td>\n",
       "      <td>1.569401</td>\n",
       "      <td>-1.695189</td>\n",
       "      <td>-0.521768</td>\n",
       "      <td>0</td>\n",
       "    </tr>\n",
       "    <tr>\n",
       "      <th>4</th>\n",
       "      <td>1.266819</td>\n",
       "      <td>1.446586</td>\n",
       "      <td>0.584326</td>\n",
       "      <td>-0.060100</td>\n",
       "      <td>0.965535</td>\n",
       "      <td>0.584326</td>\n",
       "      <td>0.299563</td>\n",
       "      <td>2</td>\n",
       "    </tr>\n",
       "  </tbody>\n",
       "</table>\n",
       "</div>"
      ],
      "text/plain": [
       "      data0     data1     data2     data3     data4     data5     data6  data7\n",
       "0 -0.452892  0.137497 -0.539387 -0.033506 -0.051796 -0.539387  1.309584      1\n",
       "1  2.183568 -0.465947  0.100564 -0.254450 -0.177177  0.100564 -0.948185      2\n",
       "2 -1.202893 -0.495887 -1.397155 -0.083091  0.027211 -1.397155 -0.387794      1\n",
       "3  1.259791  0.059177 -1.695189 -0.438530  1.569401 -1.695189 -0.521768      0\n",
       "4  1.266819  1.446586  0.584326 -0.060100  0.965535  0.584326  0.299563      2"
      ]
     },
     "execution_count": 2,
     "metadata": {},
     "output_type": "execute_result"
    }
   ],
   "source": [
    "df = pd.read_csv(\"data/dataset_var4_class.csv\", delimiter=\";\",\n",
    "                 names=[f\"data{i}\" for i in range(8)])\n",
    "df.head()\n"
   ]
  },
  {
   "attachments": {},
   "cell_type": "markdown",
   "metadata": {},
   "source": [
    "data7 - целевой признак"
   ]
  },
  {
   "attachments": {},
   "cell_type": "markdown",
   "metadata": {},
   "source": [
    "##### 1. Проведите предварительный анализ и подготовку данных, обработайте пропущенные значения."
   ]
  },
  {
   "cell_type": "code",
   "execution_count": 3,
   "metadata": {},
   "outputs": [
    {
     "data": {
      "text/plain": [
       "data0    5\n",
       "data1    0\n",
       "data2    0\n",
       "data3    0\n",
       "data4    0\n",
       "data5    5\n",
       "data6    0\n",
       "data7    0\n",
       "dtype: int64"
      ]
     },
     "execution_count": 3,
     "metadata": {},
     "output_type": "execute_result"
    }
   ],
   "source": [
    "df.isna().sum()\n"
   ]
  },
  {
   "attachments": {},
   "cell_type": "markdown",
   "metadata": {},
   "source": [
    "Удаление строк с пропущенными значениями:"
   ]
  },
  {
   "cell_type": "code",
   "execution_count": 4,
   "metadata": {},
   "outputs": [
    {
     "data": {
      "text/html": [
       "<div>\n",
       "<style scoped>\n",
       "    .dataframe tbody tr th:only-of-type {\n",
       "        vertical-align: middle;\n",
       "    }\n",
       "\n",
       "    .dataframe tbody tr th {\n",
       "        vertical-align: top;\n",
       "    }\n",
       "\n",
       "    .dataframe thead th {\n",
       "        text-align: right;\n",
       "    }\n",
       "</style>\n",
       "<table border=\"1\" class=\"dataframe\">\n",
       "  <thead>\n",
       "    <tr style=\"text-align: right;\">\n",
       "      <th></th>\n",
       "      <th>data0</th>\n",
       "      <th>data1</th>\n",
       "      <th>data2</th>\n",
       "      <th>data3</th>\n",
       "      <th>data4</th>\n",
       "      <th>data5</th>\n",
       "      <th>data6</th>\n",
       "      <th>data7</th>\n",
       "    </tr>\n",
       "  </thead>\n",
       "  <tbody>\n",
       "    <tr>\n",
       "      <th>0</th>\n",
       "      <td>-0.452892</td>\n",
       "      <td>0.137497</td>\n",
       "      <td>-0.539387</td>\n",
       "      <td>-0.033506</td>\n",
       "      <td>-0.051796</td>\n",
       "      <td>-0.539387</td>\n",
       "      <td>1.309584</td>\n",
       "      <td>1</td>\n",
       "    </tr>\n",
       "    <tr>\n",
       "      <th>1</th>\n",
       "      <td>2.183568</td>\n",
       "      <td>-0.465947</td>\n",
       "      <td>0.100564</td>\n",
       "      <td>-0.254450</td>\n",
       "      <td>-0.177177</td>\n",
       "      <td>0.100564</td>\n",
       "      <td>-0.948185</td>\n",
       "      <td>2</td>\n",
       "    </tr>\n",
       "    <tr>\n",
       "      <th>2</th>\n",
       "      <td>-1.202893</td>\n",
       "      <td>-0.495887</td>\n",
       "      <td>-1.397155</td>\n",
       "      <td>-0.083091</td>\n",
       "      <td>0.027211</td>\n",
       "      <td>-1.397155</td>\n",
       "      <td>-0.387794</td>\n",
       "      <td>1</td>\n",
       "    </tr>\n",
       "    <tr>\n",
       "      <th>3</th>\n",
       "      <td>1.259791</td>\n",
       "      <td>0.059177</td>\n",
       "      <td>-1.695189</td>\n",
       "      <td>-0.438530</td>\n",
       "      <td>1.569401</td>\n",
       "      <td>-1.695189</td>\n",
       "      <td>-0.521768</td>\n",
       "      <td>0</td>\n",
       "    </tr>\n",
       "    <tr>\n",
       "      <th>4</th>\n",
       "      <td>1.266819</td>\n",
       "      <td>1.446586</td>\n",
       "      <td>0.584326</td>\n",
       "      <td>-0.060100</td>\n",
       "      <td>0.965535</td>\n",
       "      <td>0.584326</td>\n",
       "      <td>0.299563</td>\n",
       "      <td>2</td>\n",
       "    </tr>\n",
       "    <tr>\n",
       "      <th>...</th>\n",
       "      <td>...</td>\n",
       "      <td>...</td>\n",
       "      <td>...</td>\n",
       "      <td>...</td>\n",
       "      <td>...</td>\n",
       "      <td>...</td>\n",
       "      <td>...</td>\n",
       "      <td>...</td>\n",
       "    </tr>\n",
       "    <tr>\n",
       "      <th>95</th>\n",
       "      <td>0.685959</td>\n",
       "      <td>0.626605</td>\n",
       "      <td>0.408420</td>\n",
       "      <td>-0.017232</td>\n",
       "      <td>-1.225543</td>\n",
       "      <td>0.408420</td>\n",
       "      <td>1.455258</td>\n",
       "      <td>0</td>\n",
       "    </tr>\n",
       "    <tr>\n",
       "      <th>96</th>\n",
       "      <td>0.641957</td>\n",
       "      <td>0.472708</td>\n",
       "      <td>-2.070029</td>\n",
       "      <td>-0.424172</td>\n",
       "      <td>-1.304013</td>\n",
       "      <td>-2.070029</td>\n",
       "      <td>0.893591</td>\n",
       "      <td>0</td>\n",
       "    </tr>\n",
       "    <tr>\n",
       "      <th>97</th>\n",
       "      <td>0.346634</td>\n",
       "      <td>-1.268596</td>\n",
       "      <td>1.273054</td>\n",
       "      <td>0.168782</td>\n",
       "      <td>-0.695609</td>\n",
       "      <td>1.273054</td>\n",
       "      <td>0.472434</td>\n",
       "      <td>2</td>\n",
       "    </tr>\n",
       "    <tr>\n",
       "      <th>98</th>\n",
       "      <td>0.557135</td>\n",
       "      <td>0.060439</td>\n",
       "      <td>1.307023</td>\n",
       "      <td>0.148292</td>\n",
       "      <td>1.390005</td>\n",
       "      <td>1.307023</td>\n",
       "      <td>-1.141051</td>\n",
       "      <td>2</td>\n",
       "    </tr>\n",
       "    <tr>\n",
       "      <th>99</th>\n",
       "      <td>1.731580</td>\n",
       "      <td>-0.414193</td>\n",
       "      <td>0.074212</td>\n",
       "      <td>-0.202701</td>\n",
       "      <td>-1.112465</td>\n",
       "      <td>0.074212</td>\n",
       "      <td>1.670196</td>\n",
       "      <td>0</td>\n",
       "    </tr>\n",
       "  </tbody>\n",
       "</table>\n",
       "<p>90 rows × 8 columns</p>\n",
       "</div>"
      ],
      "text/plain": [
       "       data0     data1     data2     data3     data4     data5     data6  \\\n",
       "0  -0.452892  0.137497 -0.539387 -0.033506 -0.051796 -0.539387  1.309584   \n",
       "1   2.183568 -0.465947  0.100564 -0.254450 -0.177177  0.100564 -0.948185   \n",
       "2  -1.202893 -0.495887 -1.397155 -0.083091  0.027211 -1.397155 -0.387794   \n",
       "3   1.259791  0.059177 -1.695189 -0.438530  1.569401 -1.695189 -0.521768   \n",
       "4   1.266819  1.446586  0.584326 -0.060100  0.965535  0.584326  0.299563   \n",
       "..       ...       ...       ...       ...       ...       ...       ...   \n",
       "95  0.685959  0.626605  0.408420 -0.017232 -1.225543  0.408420  1.455258   \n",
       "96  0.641957  0.472708 -2.070029 -0.424172 -1.304013 -2.070029  0.893591   \n",
       "97  0.346634 -1.268596  1.273054  0.168782 -0.695609  1.273054  0.472434   \n",
       "98  0.557135  0.060439  1.307023  0.148292  1.390005  1.307023 -1.141051   \n",
       "99  1.731580 -0.414193  0.074212 -0.202701 -1.112465  0.074212  1.670196   \n",
       "\n",
       "    data7  \n",
       "0       1  \n",
       "1       2  \n",
       "2       1  \n",
       "3       0  \n",
       "4       2  \n",
       "..    ...  \n",
       "95      0  \n",
       "96      0  \n",
       "97      2  \n",
       "98      2  \n",
       "99      0  \n",
       "\n",
       "[90 rows x 8 columns]"
      ]
     },
     "execution_count": 4,
     "metadata": {},
     "output_type": "execute_result"
    }
   ],
   "source": [
    "df = df.dropna()\n",
    "df\n"
   ]
  },
  {
   "attachments": {},
   "cell_type": "markdown",
   "metadata": {},
   "source": [
    "Столбцы data2 и data5 совпадают\n"
   ]
  },
  {
   "cell_type": "code",
   "execution_count": 5,
   "metadata": {},
   "outputs": [
    {
     "data": {
      "text/plain": [
       "True"
      ]
     },
     "execution_count": 5,
     "metadata": {},
     "output_type": "execute_result"
    }
   ],
   "source": [
    "all(df[\"data2\"] == df[\"data5\"])\n"
   ]
  },
  {
   "attachments": {},
   "cell_type": "markdown",
   "metadata": {},
   "source": [
    "Следовательно, стоит удалить один из них"
   ]
  },
  {
   "cell_type": "code",
   "execution_count": 6,
   "metadata": {},
   "outputs": [],
   "source": [
    "df = df.drop(\"data2\", axis=1)\n"
   ]
  },
  {
   "attachments": {},
   "cell_type": "markdown",
   "metadata": {},
   "source": [
    "##### 2. Проведите статистический анализ, оцените корреляции между признаками, оцените возможные выбросы в данных, постройте поясняющие графики. Удалите из рассмотрения признаки, которые не влияют на целевой."
   ]
  },
  {
   "cell_type": "code",
   "execution_count": 7,
   "metadata": {},
   "outputs": [
    {
     "data": {
      "text/html": [
       "<div>\n",
       "<style scoped>\n",
       "    .dataframe tbody tr th:only-of-type {\n",
       "        vertical-align: middle;\n",
       "    }\n",
       "\n",
       "    .dataframe tbody tr th {\n",
       "        vertical-align: top;\n",
       "    }\n",
       "\n",
       "    .dataframe thead th {\n",
       "        text-align: right;\n",
       "    }\n",
       "</style>\n",
       "<table border=\"1\" class=\"dataframe\">\n",
       "  <thead>\n",
       "    <tr style=\"text-align: right;\">\n",
       "      <th></th>\n",
       "      <th>data0</th>\n",
       "      <th>data1</th>\n",
       "      <th>data3</th>\n",
       "      <th>data4</th>\n",
       "      <th>data5</th>\n",
       "      <th>data6</th>\n",
       "      <th>data7</th>\n",
       "    </tr>\n",
       "  </thead>\n",
       "  <tbody>\n",
       "    <tr>\n",
       "      <th>count</th>\n",
       "      <td>90.000000</td>\n",
       "      <td>90.000000</td>\n",
       "      <td>90.000000</td>\n",
       "      <td>90.000000</td>\n",
       "      <td>90.000000</td>\n",
       "      <td>90.000000</td>\n",
       "      <td>90.000000</td>\n",
       "    </tr>\n",
       "    <tr>\n",
       "      <th>mean</th>\n",
       "      <td>0.359458</td>\n",
       "      <td>-0.059614</td>\n",
       "      <td>-0.146730</td>\n",
       "      <td>0.048286</td>\n",
       "      <td>-0.340787</td>\n",
       "      <td>0.180914</td>\n",
       "      <td>0.944444</td>\n",
       "    </tr>\n",
       "    <tr>\n",
       "      <th>std</th>\n",
       "      <td>1.156980</td>\n",
       "      <td>1.057892</td>\n",
       "      <td>0.450284</td>\n",
       "      <td>1.087846</td>\n",
       "      <td>1.203837</td>\n",
       "      <td>1.037785</td>\n",
       "      <td>0.839490</td>\n",
       "    </tr>\n",
       "    <tr>\n",
       "      <th>min</th>\n",
       "      <td>-2.648666</td>\n",
       "      <td>-2.641794</td>\n",
       "      <td>-3.169682</td>\n",
       "      <td>-2.262724</td>\n",
       "      <td>-3.025541</td>\n",
       "      <td>-1.889952</td>\n",
       "      <td>0.000000</td>\n",
       "    </tr>\n",
       "    <tr>\n",
       "      <th>25%</th>\n",
       "      <td>-0.360820</td>\n",
       "      <td>-0.730648</td>\n",
       "      <td>-0.265324</td>\n",
       "      <td>-0.760186</td>\n",
       "      <td>-1.268600</td>\n",
       "      <td>-0.568608</td>\n",
       "      <td>0.000000</td>\n",
       "    </tr>\n",
       "    <tr>\n",
       "      <th>50%</th>\n",
       "      <td>0.689052</td>\n",
       "      <td>-0.055416</td>\n",
       "      <td>-0.091452</td>\n",
       "      <td>-0.062761</td>\n",
       "      <td>-0.327281</td>\n",
       "      <td>0.164895</td>\n",
       "      <td>1.000000</td>\n",
       "    </tr>\n",
       "    <tr>\n",
       "      <th>75%</th>\n",
       "      <td>1.191115</td>\n",
       "      <td>0.504473</td>\n",
       "      <td>0.059973</td>\n",
       "      <td>0.796113</td>\n",
       "      <td>0.564196</td>\n",
       "      <td>0.822050</td>\n",
       "      <td>2.000000</td>\n",
       "    </tr>\n",
       "    <tr>\n",
       "      <th>max</th>\n",
       "      <td>2.208102</td>\n",
       "      <td>2.932663</td>\n",
       "      <td>1.205668</td>\n",
       "      <td>3.879810</td>\n",
       "      <td>2.014664</td>\n",
       "      <td>2.899234</td>\n",
       "      <td>2.000000</td>\n",
       "    </tr>\n",
       "  </tbody>\n",
       "</table>\n",
       "</div>"
      ],
      "text/plain": [
       "           data0      data1      data3      data4      data5      data6  \\\n",
       "count  90.000000  90.000000  90.000000  90.000000  90.000000  90.000000   \n",
       "mean    0.359458  -0.059614  -0.146730   0.048286  -0.340787   0.180914   \n",
       "std     1.156980   1.057892   0.450284   1.087846   1.203837   1.037785   \n",
       "min    -2.648666  -2.641794  -3.169682  -2.262724  -3.025541  -1.889952   \n",
       "25%    -0.360820  -0.730648  -0.265324  -0.760186  -1.268600  -0.568608   \n",
       "50%     0.689052  -0.055416  -0.091452  -0.062761  -0.327281   0.164895   \n",
       "75%     1.191115   0.504473   0.059973   0.796113   0.564196   0.822050   \n",
       "max     2.208102   2.932663   1.205668   3.879810   2.014664   2.899234   \n",
       "\n",
       "           data7  \n",
       "count  90.000000  \n",
       "mean    0.944444  \n",
       "std     0.839490  \n",
       "min     0.000000  \n",
       "25%     0.000000  \n",
       "50%     1.000000  \n",
       "75%     2.000000  \n",
       "max     2.000000  "
      ]
     },
     "execution_count": 7,
     "metadata": {},
     "output_type": "execute_result"
    }
   ],
   "source": [
    "df.describe()\n"
   ]
  },
  {
   "cell_type": "code",
   "execution_count": 8,
   "metadata": {},
   "outputs": [
    {
     "data": {
      "text/html": [
       "<div>\n",
       "<style scoped>\n",
       "    .dataframe tbody tr th:only-of-type {\n",
       "        vertical-align: middle;\n",
       "    }\n",
       "\n",
       "    .dataframe tbody tr th {\n",
       "        vertical-align: top;\n",
       "    }\n",
       "\n",
       "    .dataframe thead th {\n",
       "        text-align: right;\n",
       "    }\n",
       "</style>\n",
       "<table border=\"1\" class=\"dataframe\">\n",
       "  <thead>\n",
       "    <tr style=\"text-align: right;\">\n",
       "      <th></th>\n",
       "      <th>data0</th>\n",
       "      <th>data1</th>\n",
       "      <th>data3</th>\n",
       "      <th>data4</th>\n",
       "      <th>data5</th>\n",
       "      <th>data6</th>\n",
       "      <th>data7</th>\n",
       "    </tr>\n",
       "  </thead>\n",
       "  <tbody>\n",
       "    <tr>\n",
       "      <th>data0</th>\n",
       "      <td>1.000000</td>\n",
       "      <td>0.072743</td>\n",
       "      <td>-0.230051</td>\n",
       "      <td>-0.061140</td>\n",
       "      <td>0.183206</td>\n",
       "      <td>0.158738</td>\n",
       "      <td>0.019910</td>\n",
       "    </tr>\n",
       "    <tr>\n",
       "      <th>data1</th>\n",
       "      <td>0.072743</td>\n",
       "      <td>1.000000</td>\n",
       "      <td>-0.159238</td>\n",
       "      <td>-0.104986</td>\n",
       "      <td>-0.049417</td>\n",
       "      <td>-0.095581</td>\n",
       "      <td>-0.141620</td>\n",
       "    </tr>\n",
       "    <tr>\n",
       "      <th>data3</th>\n",
       "      <td>-0.230051</td>\n",
       "      <td>-0.159238</td>\n",
       "      <td>1.000000</td>\n",
       "      <td>-0.118172</td>\n",
       "      <td>0.529858</td>\n",
       "      <td>0.082860</td>\n",
       "      <td>0.357376</td>\n",
       "    </tr>\n",
       "    <tr>\n",
       "      <th>data4</th>\n",
       "      <td>-0.061140</td>\n",
       "      <td>-0.104986</td>\n",
       "      <td>-0.118172</td>\n",
       "      <td>1.000000</td>\n",
       "      <td>-0.132790</td>\n",
       "      <td>-0.211170</td>\n",
       "      <td>0.073955</td>\n",
       "    </tr>\n",
       "    <tr>\n",
       "      <th>data5</th>\n",
       "      <td>0.183206</td>\n",
       "      <td>-0.049417</td>\n",
       "      <td>0.529858</td>\n",
       "      <td>-0.132790</td>\n",
       "      <td>1.000000</td>\n",
       "      <td>0.154656</td>\n",
       "      <td>0.648031</td>\n",
       "    </tr>\n",
       "    <tr>\n",
       "      <th>data6</th>\n",
       "      <td>0.158738</td>\n",
       "      <td>-0.095581</td>\n",
       "      <td>0.082860</td>\n",
       "      <td>-0.211170</td>\n",
       "      <td>0.154656</td>\n",
       "      <td>1.000000</td>\n",
       "      <td>0.067408</td>\n",
       "    </tr>\n",
       "    <tr>\n",
       "      <th>data7</th>\n",
       "      <td>0.019910</td>\n",
       "      <td>-0.141620</td>\n",
       "      <td>0.357376</td>\n",
       "      <td>0.073955</td>\n",
       "      <td>0.648031</td>\n",
       "      <td>0.067408</td>\n",
       "      <td>1.000000</td>\n",
       "    </tr>\n",
       "  </tbody>\n",
       "</table>\n",
       "</div>"
      ],
      "text/plain": [
       "          data0     data1     data3     data4     data5     data6     data7\n",
       "data0  1.000000  0.072743 -0.230051 -0.061140  0.183206  0.158738  0.019910\n",
       "data1  0.072743  1.000000 -0.159238 -0.104986 -0.049417 -0.095581 -0.141620\n",
       "data3 -0.230051 -0.159238  1.000000 -0.118172  0.529858  0.082860  0.357376\n",
       "data4 -0.061140 -0.104986 -0.118172  1.000000 -0.132790 -0.211170  0.073955\n",
       "data5  0.183206 -0.049417  0.529858 -0.132790  1.000000  0.154656  0.648031\n",
       "data6  0.158738 -0.095581  0.082860 -0.211170  0.154656  1.000000  0.067408\n",
       "data7  0.019910 -0.141620  0.357376  0.073955  0.648031  0.067408  1.000000"
      ]
     },
     "execution_count": 8,
     "metadata": {},
     "output_type": "execute_result"
    }
   ],
   "source": [
    "corrmat = df.corr()\n",
    "corrmat\n"
   ]
  },
  {
   "cell_type": "code",
   "execution_count": 9,
   "metadata": {},
   "outputs": [
    {
     "data": {
      "text/plain": [
       "<AxesSubplot:>"
      ]
     },
     "execution_count": 9,
     "metadata": {},
     "output_type": "execute_result"
    },
    {
     "data": {
      "image/png": "[encoded data removed]",
      "text/plain": [
       "<Figure size 640x480 with 2 Axes>"
      ]
     },
     "metadata": {},
     "output_type": "display_data"
    }
   ],
   "source": [
    "sns.heatmap(corrmat, annot=True)\n"
   ]
  },
  {
   "attachments": {},
   "cell_type": "markdown",
   "metadata": {},
   "source": [
    "Выбросы в данных:"
   ]
  },
  {
   "cell_type": "code",
   "execution_count": 10,
   "metadata": {},
   "outputs": [
    {
     "data": {
      "text/plain": [
       "<AxesSubplot:>"
      ]
     },
     "execution_count": 10,
     "metadata": {},
     "output_type": "execute_result"
    },
    {
     "data": {
      "image/png": "[encoded data removed]",
      "text/plain": [
       "<Figure size 640x480 with 1 Axes>"
      ]
     },
     "metadata": {},
     "output_type": "display_data"
    }
   ],
   "source": [
    "sns.boxplot(df.iloc[:, :-1])\n"
   ]
  },
  {
   "attachments": {},
   "cell_type": "markdown",
   "metadata": {},
   "source": [
    "Удаление выбросов:"
   ]
  },
  {
   "cell_type": "code",
   "execution_count": 11,
   "metadata": {},
   "outputs": [
    {
     "data": {
      "text/html": [
       "<div>\n",
       "<style scoped>\n",
       "    .dataframe tbody tr th:only-of-type {\n",
       "        vertical-align: middle;\n",
       "    }\n",
       "\n",
       "    .dataframe tbody tr th {\n",
       "        vertical-align: top;\n",
       "    }\n",
       "\n",
       "    .dataframe thead th {\n",
       "        text-align: right;\n",
       "    }\n",
       "</style>\n",
       "<table border=\"1\" class=\"dataframe\">\n",
       "  <thead>\n",
       "    <tr style=\"text-align: right;\">\n",
       "      <th></th>\n",
       "      <th>data0</th>\n",
       "      <th>data1</th>\n",
       "      <th>data3</th>\n",
       "      <th>data4</th>\n",
       "      <th>data5</th>\n",
       "      <th>data6</th>\n",
       "      <th>data7</th>\n",
       "    </tr>\n",
       "  </thead>\n",
       "  <tbody>\n",
       "    <tr>\n",
       "      <th>0</th>\n",
       "      <td>-0.452892</td>\n",
       "      <td>0.137497</td>\n",
       "      <td>-0.033506</td>\n",
       "      <td>-0.051796</td>\n",
       "      <td>-0.539387</td>\n",
       "      <td>1.309584</td>\n",
       "      <td>1</td>\n",
       "    </tr>\n",
       "    <tr>\n",
       "      <th>1</th>\n",
       "      <td>2.183568</td>\n",
       "      <td>-0.465947</td>\n",
       "      <td>-0.254450</td>\n",
       "      <td>-0.177177</td>\n",
       "      <td>0.100564</td>\n",
       "      <td>-0.948185</td>\n",
       "      <td>2</td>\n",
       "    </tr>\n",
       "    <tr>\n",
       "      <th>2</th>\n",
       "      <td>-1.202893</td>\n",
       "      <td>-0.495887</td>\n",
       "      <td>-0.083091</td>\n",
       "      <td>0.027211</td>\n",
       "      <td>-1.397155</td>\n",
       "      <td>-0.387794</td>\n",
       "      <td>1</td>\n",
       "    </tr>\n",
       "    <tr>\n",
       "      <th>3</th>\n",
       "      <td>1.259791</td>\n",
       "      <td>0.059177</td>\n",
       "      <td>-0.438530</td>\n",
       "      <td>1.569401</td>\n",
       "      <td>-1.695189</td>\n",
       "      <td>-0.521768</td>\n",
       "      <td>0</td>\n",
       "    </tr>\n",
       "    <tr>\n",
       "      <th>4</th>\n",
       "      <td>1.266819</td>\n",
       "      <td>1.446586</td>\n",
       "      <td>-0.060100</td>\n",
       "      <td>0.965535</td>\n",
       "      <td>0.584326</td>\n",
       "      <td>0.299563</td>\n",
       "      <td>2</td>\n",
       "    </tr>\n",
       "    <tr>\n",
       "      <th>...</th>\n",
       "      <td>...</td>\n",
       "      <td>...</td>\n",
       "      <td>...</td>\n",
       "      <td>...</td>\n",
       "      <td>...</td>\n",
       "      <td>...</td>\n",
       "      <td>...</td>\n",
       "    </tr>\n",
       "    <tr>\n",
       "      <th>95</th>\n",
       "      <td>0.685959</td>\n",
       "      <td>0.626605</td>\n",
       "      <td>-0.017232</td>\n",
       "      <td>-1.225543</td>\n",
       "      <td>0.408420</td>\n",
       "      <td>1.455258</td>\n",
       "      <td>0</td>\n",
       "    </tr>\n",
       "    <tr>\n",
       "      <th>96</th>\n",
       "      <td>0.641957</td>\n",
       "      <td>0.472708</td>\n",
       "      <td>-0.424172</td>\n",
       "      <td>-1.304013</td>\n",
       "      <td>-2.070029</td>\n",
       "      <td>0.893591</td>\n",
       "      <td>0</td>\n",
       "    </tr>\n",
       "    <tr>\n",
       "      <th>97</th>\n",
       "      <td>0.346634</td>\n",
       "      <td>-1.268596</td>\n",
       "      <td>0.168782</td>\n",
       "      <td>-0.695609</td>\n",
       "      <td>1.273054</td>\n",
       "      <td>0.472434</td>\n",
       "      <td>2</td>\n",
       "    </tr>\n",
       "    <tr>\n",
       "      <th>98</th>\n",
       "      <td>0.557135</td>\n",
       "      <td>0.060439</td>\n",
       "      <td>0.148292</td>\n",
       "      <td>1.390005</td>\n",
       "      <td>1.307023</td>\n",
       "      <td>-1.141051</td>\n",
       "      <td>2</td>\n",
       "    </tr>\n",
       "    <tr>\n",
       "      <th>99</th>\n",
       "      <td>1.731580</td>\n",
       "      <td>-0.414193</td>\n",
       "      <td>-0.202701</td>\n",
       "      <td>-1.112465</td>\n",
       "      <td>0.074212</td>\n",
       "      <td>1.670196</td>\n",
       "      <td>0</td>\n",
       "    </tr>\n",
       "  </tbody>\n",
       "</table>\n",
       "<p>83 rows × 7 columns</p>\n",
       "</div>"
      ],
      "text/plain": [
       "       data0     data1     data3     data4     data5     data6  data7\n",
       "0  -0.452892  0.137497 -0.033506 -0.051796 -0.539387  1.309584      1\n",
       "1   2.183568 -0.465947 -0.254450 -0.177177  0.100564 -0.948185      2\n",
       "2  -1.202893 -0.495887 -0.083091  0.027211 -1.397155 -0.387794      1\n",
       "3   1.259791  0.059177 -0.438530  1.569401 -1.695189 -0.521768      0\n",
       "4   1.266819  1.446586 -0.060100  0.965535  0.584326  0.299563      2\n",
       "..       ...       ...       ...       ...       ...       ...    ...\n",
       "95  0.685959  0.626605 -0.017232 -1.225543  0.408420  1.455258      0\n",
       "96  0.641957  0.472708 -0.424172 -1.304013 -2.070029  0.893591      0\n",
       "97  0.346634 -1.268596  0.168782 -0.695609  1.273054  0.472434      2\n",
       "98  0.557135  0.060439  0.148292  1.390005  1.307023 -1.141051      2\n",
       "99  1.731580 -0.414193 -0.202701 -1.112465  0.074212  1.670196      0\n",
       "\n",
       "[83 rows x 7 columns]"
      ]
     },
     "execution_count": 11,
     "metadata": {},
     "output_type": "execute_result"
    }
   ],
   "source": [
    "df = df.loc[df[\"data1\"] >= -2.3]\n",
    "df = df.loc[df[\"data1\"] <= 2.1]\n",
    "\n",
    "df = df.loc[df[\"data3\"] >= -0.9]\n",
    "df = df.loc[df[\"data3\"] <= 0.7]\n",
    "\n",
    "df = df.loc[df[\"data4\"] <= 3]\n",
    "\n",
    "df\n"
   ]
  },
  {
   "attachments": {},
   "cell_type": "markdown",
   "metadata": {},
   "source": [
    "##### 3. Разбейте выборку на тренировочные и тестовые данные (60% на 40%)."
   ]
  },
  {
   "cell_type": "code",
   "execution_count": 12,
   "metadata": {},
   "outputs": [],
   "source": [
    "from sklearn.model_selection import train_test_split\n",
    "\n",
    "X = df.drop(\"data7\", axis=1)\n",
    "y = df[\"data7\"]\n",
    "\n",
    "X_train, X_test, y_train, y_test = train_test_split(X, y, test_size=0.4, random_state=42)\n"
   ]
  },
  {
   "attachments": {},
   "cell_type": "markdown",
   "metadata": {},
   "source": [
    "##### 4. Для предсказания класса постройте две модели, используя библиотеку sklearn:\n",
    "\n"
   ]
  },
  {
   "attachments": {},
   "cell_type": "markdown",
   "metadata": {},
   "source": [
    "##### 5. Для каждой модели попытайтесь добиться наилучшего возможного результата предсказания."
   ]
  },
  {
   "attachments": {},
   "cell_type": "markdown",
   "metadata": {},
   "source": [
    "a. Случайный лес RandomForestClassifier()"
   ]
  },
  {
   "cell_type": "code",
   "execution_count": 13,
   "metadata": {},
   "outputs": [
    {
     "name": "stdout",
     "output_type": "stream",
     "text": [
      "0.7941176470588235\n",
      "              precision    recall  f1-score   support\n",
      "\n",
      "           0       0.64      0.82      0.72        11\n",
      "           1       1.00      0.85      0.92        13\n",
      "           2       0.78      0.70      0.74        10\n",
      "\n",
      "    accuracy                           0.79        34\n",
      "   macro avg       0.81      0.79      0.79        34\n",
      "weighted avg       0.82      0.79      0.80        34\n",
      "\n"
     ]
    }
   ],
   "source": [
    "from sklearn.ensemble import RandomForestClassifier\n",
    "from sklearn.metrics import classification_report\n",
    "\n",
    "rfc = RandomForestClassifier()\n",
    "rfc.fit(X_train, y_train)\n",
    "print(rfc.score(X_test, y_test))\n",
    "print(classification_report(rfc.predict(X_test), y_test))\n"
   ]
  },
  {
   "attachments": {},
   "cell_type": "markdown",
   "metadata": {},
   "source": [
    "b. Метод ближайших соседей KNeighborsClassifier()\n"
   ]
  },
  {
   "cell_type": "code",
   "execution_count": 14,
   "metadata": {},
   "outputs": [
    {
     "name": "stdout",
     "output_type": "stream",
     "text": [
      "0.8235294117647058\n",
      "              precision    recall  f1-score   support\n",
      "\n",
      "           0       0.86      0.75      0.80        16\n",
      "           1       0.91      0.91      0.91        11\n",
      "           2       0.67      0.86      0.75         7\n",
      "\n",
      "    accuracy                           0.82        34\n",
      "   macro avg       0.81      0.84      0.82        34\n",
      "weighted avg       0.83      0.82      0.82        34\n",
      "\n"
     ]
    }
   ],
   "source": [
    "from sklearn.neighbors import KNeighborsClassifier\n",
    "\n",
    "knc = KNeighborsClassifier(n_neighbors=14)\n",
    "knc.fit(X_train, y_train)\n",
    "print(knc.score(X_test, y_test))\n",
    "print(classification_report(knc.predict(X_test), y_test))\n"
   ]
  },
  {
   "attachments": {},
   "cell_type": "markdown",
   "metadata": {},
   "source": [
    "c. Логистическая регрессия LogisticRegression()"
   ]
  },
  {
   "cell_type": "code",
   "execution_count": 25,
   "metadata": {},
   "outputs": [
    {
     "name": "stdout",
     "output_type": "stream",
     "text": [
      "0.6764705882352942\n",
      "              precision    recall  f1-score   support\n",
      "\n",
      "           0       0.57      0.62      0.59        13\n",
      "           1       0.73      0.67      0.70        12\n",
      "           2       0.78      0.78      0.78         9\n",
      "\n",
      "    accuracy                           0.68        34\n",
      "   macro avg       0.69      0.69      0.69        34\n",
      "weighted avg       0.68      0.68      0.68        34\n",
      "\n"
     ]
    }
   ],
   "source": [
    "from sklearn.linear_model import LogisticRegression\n",
    "\n",
    "lgr = LogisticRegression(max_iter=500)\n",
    "lgr.fit(X_train, y_train)\n",
    "print(lgr.score(X_test, y_test))\n",
    "print(classification_report(lgr.predict(X_test), y_test))\n"
   ]
  },
  {
   "attachments": {},
   "cell_type": "markdown",
   "metadata": {},
   "source": [
    "##### 6. Оцените качество работы моделей. Выведите метрики модели. Напишите какая модель дала наилучший результат."
   ]
  },
  {
   "attachments": {},
   "cell_type": "markdown",
   "metadata": {},
   "source": [
    "Наилучший результат дала модель KNeighborsClassifier - 0.82\n"
   ]
  }
 ],
 "metadata": {
  "kernelspec": {
   "display_name": "Python 3",
   "language": "python",
   "name": "python3"
  },
  "language_info": {
   "codemirror_mode": {
    "name": "ipython",
    "version": 3
   },
   "file_extension": ".py",
   "mimetype": "text/x-python",
   "name": "python",
   "nbconvert_exporter": "python",
   "pygments_lexer": "ipython3",
   "version": "3.10.4"
  },
  "orig_nbformat": 4,
  "vscode": {
   "interpreter": {
    "hash": "cd87b9a6d982cfc45c3963b1a7c0419560246e78f9aeb0d449ae0a5a3a4ad62c"
   }
  }
 },
 "nbformat": 4,
 "nbformat_minor": 2
}
