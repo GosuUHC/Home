{
 "cells": [
  {
   "attachments": {},
   "cell_type": "markdown",
   "metadata": {},
   "source": [
    "## **Семестровая работа**"
   ]
  },
  {
   "attachments": {},
   "cell_type": "markdown",
   "metadata": {},
   "source": [
    "#### Вариант 4"
   ]
  },
  {
   "attachments": {},
   "cell_type": "markdown",
   "metadata": {},
   "source": [
    "No1 Задача регрессии (20 баллов)\n",
    "\n",
    "Возьмите набор данных согласно своему варианту\n",
    "(https://cloud.mail.ru/public/AQp5/X3obvSZRo). Датасет представляет собой набор признаков, признак в последнем столбце является целевым (его надо прогнозировать)."
   ]
  },
  {
   "cell_type": "code",
   "execution_count": 1,
   "metadata": {},
   "outputs": [],
   "source": [
    "import pandas as pd\n",
    "import matplotlib.pyplot as plt\n",
    "import seaborn as sns\n"
   ]
  },
  {
   "cell_type": "code",
   "execution_count": 2,
   "metadata": {},
   "outputs": [
    {
     "data": {
      "text/html": [
       "<div>\n",
       "<style scoped>\n",
       "    .dataframe tbody tr th:only-of-type {\n",
       "        vertical-align: middle;\n",
       "    }\n",
       "\n",
       "    .dataframe tbody tr th {\n",
       "        vertical-align: top;\n",
       "    }\n",
       "\n",
       "    .dataframe thead th {\n",
       "        text-align: right;\n",
       "    }\n",
       "</style>\n",
       "<table border=\"1\" class=\"dataframe\">\n",
       "  <thead>\n",
       "    <tr style=\"text-align: right;\">\n",
       "      <th></th>\n",
       "      <th>data0</th>\n",
       "      <th>data1</th>\n",
       "      <th>data2</th>\n",
       "      <th>data3</th>\n",
       "      <th>data4</th>\n",
       "      <th>data5</th>\n",
       "      <th>data6</th>\n",
       "      <th>data7</th>\n",
       "    </tr>\n",
       "  </thead>\n",
       "  <tbody>\n",
       "    <tr>\n",
       "      <th>0</th>\n",
       "      <td>0.323710</td>\n",
       "      <td>0.929629</td>\n",
       "      <td>-0.767670</td>\n",
       "      <td>1.116340</td>\n",
       "      <td>-0.070416</td>\n",
       "      <td>-0.096773</td>\n",
       "      <td>-1.341757</td>\n",
       "      <td>88.929263</td>\n",
       "    </tr>\n",
       "    <tr>\n",
       "      <th>1</th>\n",
       "      <td>-2.653632</td>\n",
       "      <td>-0.812825</td>\n",
       "      <td>0.747477</td>\n",
       "      <td>NaN</td>\n",
       "      <td>-0.073235</td>\n",
       "      <td>-0.447236</td>\n",
       "      <td>-0.308805</td>\n",
       "      <td>-111.970141</td>\n",
       "    </tr>\n",
       "    <tr>\n",
       "      <th>2</th>\n",
       "      <td>-1.012406</td>\n",
       "      <td>-0.014101</td>\n",
       "      <td>NaN</td>\n",
       "      <td>-0.821736</td>\n",
       "      <td>0.129890</td>\n",
       "      <td>1.606278</td>\n",
       "      <td>0.284032</td>\n",
       "      <td>-40.252999</td>\n",
       "    </tr>\n",
       "    <tr>\n",
       "      <th>3</th>\n",
       "      <td>-0.633402</td>\n",
       "      <td>-0.549693</td>\n",
       "      <td>NaN</td>\n",
       "      <td>0.170157</td>\n",
       "      <td>-0.516859</td>\n",
       "      <td>-0.303740</td>\n",
       "      <td>1.429740</td>\n",
       "      <td>-11.120857</td>\n",
       "    </tr>\n",
       "    <tr>\n",
       "      <th>4</th>\n",
       "      <td>1.127122</td>\n",
       "      <td>-0.792454</td>\n",
       "      <td>NaN</td>\n",
       "      <td>0.064311</td>\n",
       "      <td>-0.070108</td>\n",
       "      <td>-1.234200</td>\n",
       "      <td>-1.306032</td>\n",
       "      <td>-33.972466</td>\n",
       "    </tr>\n",
       "  </tbody>\n",
       "</table>\n",
       "</div>"
      ],
      "text/plain": [
       "      data0     data1     data2     data3     data4     data5     data6  \\\n",
       "0  0.323710  0.929629 -0.767670  1.116340 -0.070416 -0.096773 -1.341757   \n",
       "1 -2.653632 -0.812825  0.747477       NaN -0.073235 -0.447236 -0.308805   \n",
       "2 -1.012406 -0.014101       NaN -0.821736  0.129890  1.606278  0.284032   \n",
       "3 -0.633402 -0.549693       NaN  0.170157 -0.516859 -0.303740  1.429740   \n",
       "4  1.127122 -0.792454       NaN  0.064311 -0.070108 -1.234200 -1.306032   \n",
       "\n",
       "        data7  \n",
       "0   88.929263  \n",
       "1 -111.970141  \n",
       "2  -40.252999  \n",
       "3  -11.120857  \n",
       "4  -33.972466  "
      ]
     },
     "execution_count": 2,
     "metadata": {},
     "output_type": "execute_result"
    }
   ],
   "source": [
    "df = pd.read_csv(\"data/dataset_var4.csv\", delimiter=\";\",\n",
    "                 names=[f\"data{i}\" for i in range(8)])\n",
    "df.head()\n"
   ]
  },
  {
   "attachments": {},
   "cell_type": "markdown",
   "metadata": {},
   "source": [
    "data7 - целевой признак"
   ]
  },
  {
   "attachments": {},
   "cell_type": "markdown",
   "metadata": {},
   "source": [
    "##### 1. Проведите предварительный анализ и подготовку данных, обработайте пропущенные значения"
   ]
  },
  {
   "cell_type": "code",
   "execution_count": 3,
   "metadata": {},
   "outputs": [
    {
     "data": {
      "text/plain": [
       "data0     0\n",
       "data1     0\n",
       "data2    70\n",
       "data3     5\n",
       "data4     0\n",
       "data5     0\n",
       "data6     0\n",
       "data7     0\n",
       "dtype: int64"
      ]
     },
     "execution_count": 3,
     "metadata": {},
     "output_type": "execute_result"
    }
   ],
   "source": [
    "df.isna().sum()\n"
   ]
  },
  {
   "attachments": {},
   "cell_type": "markdown",
   "metadata": {},
   "source": [
    "Столбец 2 содержит большое количество пропусков, следовательно его можно удалить полностью"
   ]
  },
  {
   "cell_type": "code",
   "execution_count": 4,
   "metadata": {},
   "outputs": [],
   "source": [
    "df = df.drop(\"data2\", axis=1)\n"
   ]
  },
  {
   "cell_type": "code",
   "execution_count": 5,
   "metadata": {},
   "outputs": [
    {
     "data": {
      "text/plain": [
       "data0    0\n",
       "data1    0\n",
       "data3    5\n",
       "data4    0\n",
       "data5    0\n",
       "data6    0\n",
       "data7    0\n",
       "dtype: int64"
      ]
     },
     "execution_count": 5,
     "metadata": {},
     "output_type": "execute_result"
    }
   ],
   "source": [
    "df.isna().sum()\n"
   ]
  },
  {
   "attachments": {},
   "cell_type": "markdown",
   "metadata": {},
   "source": [
    "Удалить 5 строк с пропущенным в data3 значением"
   ]
  },
  {
   "cell_type": "code",
   "execution_count": 6,
   "metadata": {},
   "outputs": [],
   "source": [
    "df = df.dropna()\n"
   ]
  },
  {
   "cell_type": "code",
   "execution_count": 7,
   "metadata": {},
   "outputs": [
    {
     "data": {
      "text/plain": [
       "data0    0\n",
       "data1    0\n",
       "data3    0\n",
       "data4    0\n",
       "data5    0\n",
       "data6    0\n",
       "data7    0\n",
       "dtype: int64"
      ]
     },
     "execution_count": 7,
     "metadata": {},
     "output_type": "execute_result"
    }
   ],
   "source": [
    "df.isna().sum()\n"
   ]
  },
  {
   "attachments": {},
   "cell_type": "markdown",
   "metadata": {},
   "source": [
    "##### 2. Проведите статистический анализ, оцените корреляции между признаками, оцените возможные выбросы в данных, постройте поясняющие графики. Удалите из рассмотрения признаки, которые не влияют на целевой."
   ]
  },
  {
   "cell_type": "code",
   "execution_count": 8,
   "metadata": {},
   "outputs": [
    {
     "data": {
      "text/html": [
       "<div>\n",
       "<style scoped>\n",
       "    .dataframe tbody tr th:only-of-type {\n",
       "        vertical-align: middle;\n",
       "    }\n",
       "\n",
       "    .dataframe tbody tr th {\n",
       "        vertical-align: top;\n",
       "    }\n",
       "\n",
       "    .dataframe thead th {\n",
       "        text-align: right;\n",
       "    }\n",
       "</style>\n",
       "<table border=\"1\" class=\"dataframe\">\n",
       "  <thead>\n",
       "    <tr style=\"text-align: right;\">\n",
       "      <th></th>\n",
       "      <th>data0</th>\n",
       "      <th>data1</th>\n",
       "      <th>data3</th>\n",
       "      <th>data4</th>\n",
       "      <th>data5</th>\n",
       "      <th>data6</th>\n",
       "      <th>data7</th>\n",
       "    </tr>\n",
       "  </thead>\n",
       "  <tbody>\n",
       "    <tr>\n",
       "      <th>count</th>\n",
       "      <td>95.000000</td>\n",
       "      <td>95.000000</td>\n",
       "      <td>95.000000</td>\n",
       "      <td>95.000000</td>\n",
       "      <td>95.000000</td>\n",
       "      <td>95.000000</td>\n",
       "      <td>95.000000</td>\n",
       "    </tr>\n",
       "    <tr>\n",
       "      <th>mean</th>\n",
       "      <td>-0.199422</td>\n",
       "      <td>-0.110951</td>\n",
       "      <td>0.078808</td>\n",
       "      <td>-0.069097</td>\n",
       "      <td>0.152081</td>\n",
       "      <td>0.155669</td>\n",
       "      <td>-1.819365</td>\n",
       "    </tr>\n",
       "    <tr>\n",
       "      <th>std</th>\n",
       "      <td>0.961151</td>\n",
       "      <td>1.821826</td>\n",
       "      <td>0.987839</td>\n",
       "      <td>0.974943</td>\n",
       "      <td>0.976145</td>\n",
       "      <td>0.983317</td>\n",
       "      <td>66.651875</td>\n",
       "    </tr>\n",
       "    <tr>\n",
       "      <th>min</th>\n",
       "      <td>-2.902561</td>\n",
       "      <td>-7.350727</td>\n",
       "      <td>-1.907869</td>\n",
       "      <td>-2.888812</td>\n",
       "      <td>-2.638386</td>\n",
       "      <td>-1.830461</td>\n",
       "      <td>-134.157584</td>\n",
       "    </tr>\n",
       "    <tr>\n",
       "      <th>25%</th>\n",
       "      <td>-0.709725</td>\n",
       "      <td>-0.916439</td>\n",
       "      <td>-0.620862</td>\n",
       "      <td>-0.651368</td>\n",
       "      <td>-0.396814</td>\n",
       "      <td>-0.467832</td>\n",
       "      <td>-46.618073</td>\n",
       "    </tr>\n",
       "    <tr>\n",
       "      <th>50%</th>\n",
       "      <td>-0.312134</td>\n",
       "      <td>-0.252094</td>\n",
       "      <td>0.027166</td>\n",
       "      <td>-0.070416</td>\n",
       "      <td>0.181632</td>\n",
       "      <td>0.079464</td>\n",
       "      <td>-6.808182</td>\n",
       "    </tr>\n",
       "    <tr>\n",
       "      <th>75%</th>\n",
       "      <td>0.503918</td>\n",
       "      <td>0.574195</td>\n",
       "      <td>0.557889</td>\n",
       "      <td>0.580341</td>\n",
       "      <td>0.828973</td>\n",
       "      <td>0.749598</td>\n",
       "      <td>46.876857</td>\n",
       "    </tr>\n",
       "    <tr>\n",
       "      <th>max</th>\n",
       "      <td>1.943964</td>\n",
       "      <td>12.993976</td>\n",
       "      <td>3.084039</td>\n",
       "      <td>2.514780</td>\n",
       "      <td>2.040266</td>\n",
       "      <td>2.652419</td>\n",
       "      <td>157.810739</td>\n",
       "    </tr>\n",
       "  </tbody>\n",
       "</table>\n",
       "</div>"
      ],
      "text/plain": [
       "           data0      data1      data3      data4      data5      data6  \\\n",
       "count  95.000000  95.000000  95.000000  95.000000  95.000000  95.000000   \n",
       "mean   -0.199422  -0.110951   0.078808  -0.069097   0.152081   0.155669   \n",
       "std     0.961151   1.821826   0.987839   0.974943   0.976145   0.983317   \n",
       "min    -2.902561  -7.350727  -1.907869  -2.888812  -2.638386  -1.830461   \n",
       "25%    -0.709725  -0.916439  -0.620862  -0.651368  -0.396814  -0.467832   \n",
       "50%    -0.312134  -0.252094   0.027166  -0.070416   0.181632   0.079464   \n",
       "75%     0.503918   0.574195   0.557889   0.580341   0.828973   0.749598   \n",
       "max     1.943964  12.993976   3.084039   2.514780   2.040266   2.652419   \n",
       "\n",
       "            data7  \n",
       "count   95.000000  \n",
       "mean    -1.819365  \n",
       "std     66.651875  \n",
       "min   -134.157584  \n",
       "25%    -46.618073  \n",
       "50%     -6.808182  \n",
       "75%     46.876857  \n",
       "max    157.810739  "
      ]
     },
     "execution_count": 8,
     "metadata": {},
     "output_type": "execute_result"
    }
   ],
   "source": [
    "df.describe()\n"
   ]
  },
  {
   "cell_type": "code",
   "execution_count": 9,
   "metadata": {},
   "outputs": [
    {
     "data": {
      "text/html": [
       "<div>\n",
       "<style scoped>\n",
       "    .dataframe tbody tr th:only-of-type {\n",
       "        vertical-align: middle;\n",
       "    }\n",
       "\n",
       "    .dataframe tbody tr th {\n",
       "        vertical-align: top;\n",
       "    }\n",
       "\n",
       "    .dataframe thead th {\n",
       "        text-align: right;\n",
       "    }\n",
       "</style>\n",
       "<table border=\"1\" class=\"dataframe\">\n",
       "  <thead>\n",
       "    <tr style=\"text-align: right;\">\n",
       "      <th></th>\n",
       "      <th>data0</th>\n",
       "      <th>data1</th>\n",
       "      <th>data3</th>\n",
       "      <th>data4</th>\n",
       "      <th>data5</th>\n",
       "      <th>data6</th>\n",
       "      <th>data7</th>\n",
       "    </tr>\n",
       "  </thead>\n",
       "  <tbody>\n",
       "    <tr>\n",
       "      <th>data0</th>\n",
       "      <td>1.000000</td>\n",
       "      <td>-0.016936</td>\n",
       "      <td>0.074944</td>\n",
       "      <td>-0.053772</td>\n",
       "      <td>-0.191713</td>\n",
       "      <td>0.064401</td>\n",
       "      <td>0.053900</td>\n",
       "    </tr>\n",
       "    <tr>\n",
       "      <th>data1</th>\n",
       "      <td>-0.016936</td>\n",
       "      <td>1.000000</td>\n",
       "      <td>-0.122184</td>\n",
       "      <td>0.067675</td>\n",
       "      <td>0.170592</td>\n",
       "      <td>-0.023871</td>\n",
       "      <td>0.228127</td>\n",
       "    </tr>\n",
       "    <tr>\n",
       "      <th>data3</th>\n",
       "      <td>0.074944</td>\n",
       "      <td>-0.122184</td>\n",
       "      <td>1.000000</td>\n",
       "      <td>-0.023679</td>\n",
       "      <td>-0.156040</td>\n",
       "      <td>-0.105068</td>\n",
       "      <td>0.783673</td>\n",
       "    </tr>\n",
       "    <tr>\n",
       "      <th>data4</th>\n",
       "      <td>-0.053772</td>\n",
       "      <td>0.067675</td>\n",
       "      <td>-0.023679</td>\n",
       "      <td>1.000000</td>\n",
       "      <td>-0.113457</td>\n",
       "      <td>0.021193</td>\n",
       "      <td>0.395530</td>\n",
       "    </tr>\n",
       "    <tr>\n",
       "      <th>data5</th>\n",
       "      <td>-0.191713</td>\n",
       "      <td>0.170592</td>\n",
       "      <td>-0.156040</td>\n",
       "      <td>-0.113457</td>\n",
       "      <td>1.000000</td>\n",
       "      <td>0.021991</td>\n",
       "      <td>-0.121787</td>\n",
       "    </tr>\n",
       "    <tr>\n",
       "      <th>data6</th>\n",
       "      <td>0.064401</td>\n",
       "      <td>-0.023871</td>\n",
       "      <td>-0.105068</td>\n",
       "      <td>0.021193</td>\n",
       "      <td>0.021991</td>\n",
       "      <td>1.000000</td>\n",
       "      <td>-0.008002</td>\n",
       "    </tr>\n",
       "    <tr>\n",
       "      <th>data7</th>\n",
       "      <td>0.053900</td>\n",
       "      <td>0.228127</td>\n",
       "      <td>0.783673</td>\n",
       "      <td>0.395530</td>\n",
       "      <td>-0.121787</td>\n",
       "      <td>-0.008002</td>\n",
       "      <td>1.000000</td>\n",
       "    </tr>\n",
       "  </tbody>\n",
       "</table>\n",
       "</div>"
      ],
      "text/plain": [
       "          data0     data1     data3     data4     data5     data6     data7\n",
       "data0  1.000000 -0.016936  0.074944 -0.053772 -0.191713  0.064401  0.053900\n",
       "data1 -0.016936  1.000000 -0.122184  0.067675  0.170592 -0.023871  0.228127\n",
       "data3  0.074944 -0.122184  1.000000 -0.023679 -0.156040 -0.105068  0.783673\n",
       "data4 -0.053772  0.067675 -0.023679  1.000000 -0.113457  0.021193  0.395530\n",
       "data5 -0.191713  0.170592 -0.156040 -0.113457  1.000000  0.021991 -0.121787\n",
       "data6  0.064401 -0.023871 -0.105068  0.021193  0.021991  1.000000 -0.008002\n",
       "data7  0.053900  0.228127  0.783673  0.395530 -0.121787 -0.008002  1.000000"
      ]
     },
     "execution_count": 9,
     "metadata": {},
     "output_type": "execute_result"
    }
   ],
   "source": [
    "corrmat = df.corr()\n",
    "corrmat\n"
   ]
  },
  {
   "cell_type": "code",
   "execution_count": 10,
   "metadata": {},
   "outputs": [
    {
     "data": {
      "text/plain": [
       "<AxesSubplot:>"
      ]
     },
     "execution_count": 10,
     "metadata": {},
     "output_type": "execute_result"
    },
    {
     "data": {
      "image/png": "[encoded data removed]",
      "text/plain": [
       "<Figure size 640x480 with 2 Axes>"
      ]
     },
     "metadata": {},
     "output_type": "display_data"
    }
   ],
   "source": [
    "sns.heatmap(corrmat, annot=True)\n"
   ]
  },
  {
   "attachments": {},
   "cell_type": "markdown",
   "metadata": {},
   "source": [
    "По корреляционной матрице видно, что data6 очень слабо коррелирует с целевой переменной data7. Следовательно, data6 можно удалить\n"
   ]
  },
  {
   "cell_type": "code",
   "execution_count": 11,
   "metadata": {},
   "outputs": [],
   "source": [
    "df = df.drop(\"data6\", axis=1)\n"
   ]
  },
  {
   "attachments": {},
   "cell_type": "markdown",
   "metadata": {},
   "source": [
    "Выбросы в данных:"
   ]
  },
  {
   "cell_type": "code",
   "execution_count": 12,
   "metadata": {},
   "outputs": [
    {
     "data": {
      "text/plain": [
       "<AxesSubplot:>"
      ]
     },
     "execution_count": 12,
     "metadata": {},
     "output_type": "execute_result"
    },
    {
     "data": {
      "image/png": "[encoded data removed]",
      "text/plain": [
       "<Figure size 640x480 with 1 Axes>"
      ]
     },
     "metadata": {},
     "output_type": "display_data"
    }
   ],
   "source": [
    "sns.boxplot(df.iloc[:, :-1])\n"
   ]
  },
  {
   "attachments": {},
   "cell_type": "markdown",
   "metadata": {},
   "source": [
    "Удаление выбросов:"
   ]
  },
  {
   "cell_type": "code",
   "execution_count": 13,
   "metadata": {},
   "outputs": [
    {
     "data": {
      "text/html": [
       "<div>\n",
       "<style scoped>\n",
       "    .dataframe tbody tr th:only-of-type {\n",
       "        vertical-align: middle;\n",
       "    }\n",
       "\n",
       "    .dataframe tbody tr th {\n",
       "        vertical-align: top;\n",
       "    }\n",
       "\n",
       "    .dataframe thead th {\n",
       "        text-align: right;\n",
       "    }\n",
       "</style>\n",
       "<table border=\"1\" class=\"dataframe\">\n",
       "  <thead>\n",
       "    <tr style=\"text-align: right;\">\n",
       "      <th></th>\n",
       "      <th>data0</th>\n",
       "      <th>data1</th>\n",
       "      <th>data3</th>\n",
       "      <th>data4</th>\n",
       "      <th>data5</th>\n",
       "      <th>data7</th>\n",
       "    </tr>\n",
       "  </thead>\n",
       "  <tbody>\n",
       "    <tr>\n",
       "      <th>0</th>\n",
       "      <td>0.323710</td>\n",
       "      <td>0.929629</td>\n",
       "      <td>1.116340</td>\n",
       "      <td>-0.070416</td>\n",
       "      <td>-0.096773</td>\n",
       "      <td>88.929263</td>\n",
       "    </tr>\n",
       "    <tr>\n",
       "      <th>2</th>\n",
       "      <td>-1.012406</td>\n",
       "      <td>-0.014101</td>\n",
       "      <td>-0.821736</td>\n",
       "      <td>0.129890</td>\n",
       "      <td>1.606278</td>\n",
       "      <td>-40.252999</td>\n",
       "    </tr>\n",
       "    <tr>\n",
       "      <th>3</th>\n",
       "      <td>-0.633402</td>\n",
       "      <td>-0.549693</td>\n",
       "      <td>0.170157</td>\n",
       "      <td>-0.516859</td>\n",
       "      <td>-0.303740</td>\n",
       "      <td>-11.120857</td>\n",
       "    </tr>\n",
       "    <tr>\n",
       "      <th>4</th>\n",
       "      <td>1.127122</td>\n",
       "      <td>-0.792454</td>\n",
       "      <td>0.064311</td>\n",
       "      <td>-0.070108</td>\n",
       "      <td>-1.234200</td>\n",
       "      <td>-33.972466</td>\n",
       "    </tr>\n",
       "    <tr>\n",
       "      <th>5</th>\n",
       "      <td>-0.491143</td>\n",
       "      <td>-0.198721</td>\n",
       "      <td>-1.162147</td>\n",
       "      <td>1.124064</td>\n",
       "      <td>1.767891</td>\n",
       "      <td>-43.445488</td>\n",
       "    </tr>\n",
       "    <tr>\n",
       "      <th>...</th>\n",
       "      <td>...</td>\n",
       "      <td>...</td>\n",
       "      <td>...</td>\n",
       "      <td>...</td>\n",
       "      <td>...</td>\n",
       "      <td>...</td>\n",
       "    </tr>\n",
       "    <tr>\n",
       "      <th>94</th>\n",
       "      <td>0.257765</td>\n",
       "      <td>-0.376271</td>\n",
       "      <td>1.946588</td>\n",
       "      <td>-1.011902</td>\n",
       "      <td>0.236452</td>\n",
       "      <td>81.423788</td>\n",
       "    </tr>\n",
       "    <tr>\n",
       "      <th>95</th>\n",
       "      <td>-0.511010</td>\n",
       "      <td>0.510621</td>\n",
       "      <td>0.308947</td>\n",
       "      <td>-0.132423</td>\n",
       "      <td>-1.027070</td>\n",
       "      <td>28.272050</td>\n",
       "    </tr>\n",
       "    <tr>\n",
       "      <th>96</th>\n",
       "      <td>-0.720866</td>\n",
       "      <td>0.101553</td>\n",
       "      <td>-0.936991</td>\n",
       "      <td>-0.626092</td>\n",
       "      <td>-0.120187</td>\n",
       "      <td>-76.814252</td>\n",
       "    </tr>\n",
       "    <tr>\n",
       "      <th>98</th>\n",
       "      <td>-0.492031</td>\n",
       "      <td>-0.330730</td>\n",
       "      <td>-0.320204</td>\n",
       "      <td>-0.927244</td>\n",
       "      <td>0.587869</td>\n",
       "      <td>-48.915663</td>\n",
       "    </tr>\n",
       "    <tr>\n",
       "      <th>99</th>\n",
       "      <td>0.697700</td>\n",
       "      <td>1.090497</td>\n",
       "      <td>-1.620025</td>\n",
       "      <td>1.085958</td>\n",
       "      <td>-0.271748</td>\n",
       "      <td>-31.962912</td>\n",
       "    </tr>\n",
       "  </tbody>\n",
       "</table>\n",
       "<p>84 rows × 6 columns</p>\n",
       "</div>"
      ],
      "text/plain": [
       "       data0     data1     data3     data4     data5      data7\n",
       "0   0.323710  0.929629  1.116340 -0.070416 -0.096773  88.929263\n",
       "2  -1.012406 -0.014101 -0.821736  0.129890  1.606278 -40.252999\n",
       "3  -0.633402 -0.549693  0.170157 -0.516859 -0.303740 -11.120857\n",
       "4   1.127122 -0.792454  0.064311 -0.070108 -1.234200 -33.972466\n",
       "5  -0.491143 -0.198721 -1.162147  1.124064  1.767891 -43.445488\n",
       "..       ...       ...       ...       ...       ...        ...\n",
       "94  0.257765 -0.376271  1.946588 -1.011902  0.236452  81.423788\n",
       "95 -0.511010  0.510621  0.308947 -0.132423 -1.027070  28.272050\n",
       "96 -0.720866  0.101553 -0.936991 -0.626092 -0.120187 -76.814252\n",
       "98 -0.492031 -0.330730 -0.320204 -0.927244  0.587869 -48.915663\n",
       "99  0.697700  1.090497 -1.620025  1.085958 -0.271748 -31.962912\n",
       "\n",
       "[84 rows x 6 columns]"
      ]
     },
     "execution_count": 13,
     "metadata": {},
     "output_type": "execute_result"
    }
   ],
   "source": [
    "df = df.loc[df[\"data0\"] >= -2.5]\n",
    "\n",
    "df = df.loc[df[\"data1\"] >= -2.5]\n",
    "df = df.loc[df[\"data1\"] <= 2.5]\n",
    "\n",
    "df = df.loc[df[\"data3\"] <= 2.5]\n",
    "\n",
    "df = df.loc[df[\"data4\"] <= 2.3]\n",
    "df = df.loc[df[\"data4\"] >= -2.4]\n",
    "\n",
    "df = df.loc[df[\"data5\"] >= -2.4]\n",
    "df\n",
    "\n"
   ]
  },
  {
   "attachments": {},
   "cell_type": "markdown",
   "metadata": {},
   "source": [
    "##### 3. Разбейте выборку на тренировочные и тестовые данные (60% на 40%)."
   ]
  },
  {
   "cell_type": "code",
   "execution_count": 14,
   "metadata": {},
   "outputs": [],
   "source": [
    "from sklearn.model_selection import train_test_split\n",
    "\n",
    "X = df.drop(\"data7\", axis=1)\n",
    "y = df[\"data7\"]\n",
    "\n",
    "X_train, X_test, y_train, y_test = train_test_split(X, y, test_size=0.4, random_state=42)\n",
    "\n"
   ]
  },
  {
   "attachments": {},
   "cell_type": "markdown",
   "metadata": {},
   "source": [
    "##### 4. Для предсказания целевого признака постройте следующие модели, используя библиотеку sklearn:\n",
    "\n",
    "\n",
    "\n",
    "\n"
   ]
  },
  {
   "attachments": {},
   "cell_type": "markdown",
   "metadata": {},
   "source": [
    "##### 5. Для каждой модели попытайтесь добиться наилучшего возможного результата предсказания."
   ]
  },
  {
   "attachments": {},
   "cell_type": "markdown",
   "metadata": {},
   "source": [
    "a. Линейная регрессия LinearRegression()"
   ]
  },
  {
   "cell_type": "code",
   "execution_count": 15,
   "metadata": {},
   "outputs": [
    {
     "data": {
      "text/plain": [
       "0.9900623083922716"
      ]
     },
     "execution_count": 15,
     "metadata": {},
     "output_type": "execute_result"
    }
   ],
   "source": [
    "from sklearn.linear_model import LinearRegression\n",
    "\n",
    "linr = LinearRegression()\n",
    "linr.fit(X_train, y_train)\n",
    "linr.score(X_test, y_test)\n"
   ]
  },
  {
   "attachments": {},
   "cell_type": "markdown",
   "metadata": {},
   "source": [
    "b. Случайный лес RandomForestRegressor()"
   ]
  },
  {
   "cell_type": "code",
   "execution_count": 16,
   "metadata": {},
   "outputs": [
    {
     "data": {
      "text/plain": [
       "0.799053115676593"
      ]
     },
     "execution_count": 16,
     "metadata": {},
     "output_type": "execute_result"
    }
   ],
   "source": [
    "from sklearn.ensemble import RandomForestRegressor\n",
    "\n",
    "rfr = RandomForestRegressor()\n",
    "rfr.fit(X_train, y_train)\n",
    "rfr.score(X_test, y_test)\n"
   ]
  },
  {
   "attachments": {},
   "cell_type": "markdown",
   "metadata": {},
   "source": [
    "c. Метод ближайших соседей KNeighborsRegressor()"
   ]
  },
  {
   "cell_type": "code",
   "execution_count": 17,
   "metadata": {},
   "outputs": [
    {
     "data": {
      "text/plain": [
       "0.6852285260584652"
      ]
     },
     "execution_count": 17,
     "metadata": {},
     "output_type": "execute_result"
    }
   ],
   "source": [
    "from sklearn.neighbors import KNeighborsRegressor\n",
    "\n",
    "knr = KNeighborsRegressor(n_neighbors=10)\n",
    "knr.fit(X_train, y_train)\n",
    "knr.score(X_test, y_test)\n"
   ]
  },
  {
   "attachments": {},
   "cell_type": "markdown",
   "metadata": {},
   "source": [
    "d. Метод опорных векторов SVR()"
   ]
  },
  {
   "cell_type": "code",
   "execution_count": 18,
   "metadata": {},
   "outputs": [
    {
     "data": {
      "text/plain": [
       "0.8054799641549033"
      ]
     },
     "execution_count": 18,
     "metadata": {},
     "output_type": "execute_result"
    }
   ],
   "source": [
    "from sklearn.svm import SVR\n",
    "\n",
    "svr = SVR(C=500)\n",
    "svr.fit(X_train, y_train)\n",
    "svr.score(X_test, y_test)\n"
   ]
  },
  {
   "attachments": {},
   "cell_type": "markdown",
   "metadata": {},
   "source": [
    "##### 6. Оцените качество работы моделей. Выведите для каждой модели ее score(). Напишите какая модель дала наилучший результат. Выведите ее значение feature_importances"
   ]
  },
  {
   "attachments": {},
   "cell_type": "markdown",
   "metadata": {},
   "source": [
    "Самый высокий score у модели LinearRegression -  0.99"
   ]
  },
  {
   "cell_type": "code",
   "execution_count": 21,
   "metadata": {},
   "outputs": [
    {
     "name": "stdout",
     "output_type": "stream",
     "text": [
      "[-1.3530193  31.28420957 59.67670829 29.99567967  0.68855339]\n",
      "['data0' 'data1' 'data3' 'data4' 'data5']\n"
     ]
    }
   ],
   "source": [
    "print(linr.coef_)\n",
    "print(linr.feature_names_in_)\n"
   ]
  }
 ],
 "metadata": {
  "kernelspec": {
   "display_name": "Python 3",
   "language": "python",
   "name": "python3"
  },
  "language_info": {
   "codemirror_mode": {
    "name": "ipython",
    "version": 3
   },
   "file_extension": ".py",
   "mimetype": "text/x-python",
   "name": "python",
   "nbconvert_exporter": "python",
   "pygments_lexer": "ipython3",
   "version": "3.10.4"
  },
  "orig_nbformat": 4,
  "vscode": {
   "interpreter": {
    "hash": "cd87b9a6d982cfc45c3963b1a7c0419560246e78f9aeb0d449ae0a5a3a4ad62c"
   }
  }
 },
 "nbformat": 4,
 "nbformat_minor": 2
}
